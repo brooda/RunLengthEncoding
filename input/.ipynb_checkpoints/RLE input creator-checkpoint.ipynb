{
 "cells": [
  {
   "cell_type": "code",
   "execution_count": 1,
   "metadata": {
    "collapsed": true
   },
   "outputs": [],
   "source": [
    "sizes = [#10000,     50000,\n",
    "         #100000,    500000,\n",
    "         #1000000,   1000000,\n",
    "         #10000000,  50000000,\n",
    "         100000000, 200000000, 300000000, 400000000, 500000000, 600000000, 700000000, 800000000, 900000000]    "
   ]
  },
  {
   "cell_type": "code",
   "execution_count": 2,
   "metadata": {
    "collapsed": true
   },
   "outputs": [],
   "source": [
    "def randomLetter(last):\n",
    "    letters = ['A', 'B', 'C', 'D', 'E', 'F']\n",
    "    \n",
    "    rand = letters[np.random.randint(len(letters))]\n",
    "    \n",
    "    while (rand == last):\n",
    "        rand = letters[np.random.randint(len(letters))]\n",
    "    \n",
    "    return rand"
   ]
  },
  {
   "cell_type": "code",
   "execution_count": 3,
   "metadata": {
    "collapsed": true
   },
   "outputs": [],
   "source": [
    "import numpy as np"
   ]
  },
  {
   "cell_type": "code",
   "execution_count": null,
   "metadata": {
    "collapsed": true
   },
   "outputs": [],
   "source": [
    "for size in sizes:\n",
    "    i = 0\n",
    "    text = \"\"\n",
    "    compressed = \"\"\n",
    "    \n",
    "    lastletter = 'Z'\n",
    "    while i<size:\n",
    "        length = np.random.randint(1, 20)\n",
    "        letter = randomLetter(lastletter)\n",
    "        lastletter = letter\n",
    "        \n",
    "        text += length * letter\n",
    "        \n",
    "        if (i + length > size):\n",
    "            length = size - i\n",
    "            \n",
    "        if length > 1:\n",
    "            compressed += str(length) \n",
    "        compressed += letter\n",
    "        \n",
    "        i += length\n",
    "    \n",
    "    text = text[0:size]\n",
    "    \n",
    "    with open(f\"text_{size}.txt\", \"w\") as text_file:\n",
    "        text_file.write(text)\n",
    "        \n",
    "    with open(f\"compressed_{size}.txt\", \"w\") as text_file:\n",
    "        text_file.write(compressed)"
   ]
  },
  {
   "cell_type": "code",
   "execution_count": null,
   "metadata": {
    "collapsed": true
   },
   "outputs": [],
   "source": []
  },
  {
   "cell_type": "code",
   "execution_count": null,
   "metadata": {
    "collapsed": true
   },
   "outputs": [],
   "source": []
  }
 ],
 "metadata": {
  "kernelspec": {
   "display_name": "Python 3",
   "language": "python",
   "name": "python3"
  },
  "language_info": {
   "codemirror_mode": {
    "name": "ipython",
    "version": 3
   },
   "file_extension": ".py",
   "mimetype": "text/x-python",
   "name": "python",
   "nbconvert_exporter": "python",
   "pygments_lexer": "ipython3",
   "version": "3.6.3"
  }
 },
 "nbformat": 4,
 "nbformat_minor": 2
}
